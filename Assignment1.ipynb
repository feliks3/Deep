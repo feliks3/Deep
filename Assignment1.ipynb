{
 "cells": [
  {
   "cell_type": "code",
   "execution_count": 403,
   "metadata": {},
   "outputs": [],
   "source": [
    "import pandas as pd\n",
    "from sklearn.model_selection import train_test_split\n",
    "import numpy as np\n",
    "import sklearn\n"
   ]
  },
  {
   "cell_type": "code",
   "execution_count": 404,
   "metadata": {},
   "outputs": [],
   "source": [
    "df_diabetes = pd.read_csv(\"diabetes.csv\")\n",
    "np_diabetes = pd.DataFrame(df_diabetes).to_numpy()\n",
    "train_set, test_set = train_test_split(my_df_loaded, test_size=0.2, random_state=42)\n",
    "\n",
    "X_train = np.c_[train_set[[\"Pregnancies\", \"Glucose\", \"BloodPressure\", \"SkinThickness\", \"Insulin\", \"BMI\", \"DiabetesPedigreeFunction\", \"Age\"]]]\n",
    "y_train = np.c_[train_set[\"Outcome\"]]\n",
    "y_train = y_train.flatten()\n",
    "y_train = 2 * y_train - 1\n",
    "\n",
    "X_test = np.c_[test_set[[\"Pregnancies\", \"Glucose\", \"BloodPressure\", \"SkinThickness\", \"Insulin\", \"BMI\", \"DiabetesPedigreeFunction\", \"Age\"]]]\n",
    "y_test = np.c_[test_set[\"Outcome\"]]\n",
    "y_test = y_test.flatten()\n",
    "\n"
   ]
  },
  {
   "cell_type": "code",
   "execution_count": 405,
   "metadata": {},
   "outputs": [],
   "source": [
    "X, y = load_svmlight_file('diabetes_scale')\n",
    "X = np.array(X.todense())\n",
    "X_train, X_test, y_train, y_test = train_test_split(X, y, test_size=0.33, random_state=42)\n"
   ]
  },
  {
   "cell_type": "code",
   "execution_count": 406,
   "metadata": {},
   "outputs": [],
   "source": [
    "def train_data(W,T,X_train,y_train,learning_rate):\n",
    "    X_train = sklearn.preprocessing.normalize(X_train)\n",
    "    X_train = np.c_[np.ones(len(X_train)), X_train]\n",
    "    for j in range(T):\n",
    "        step = np.zeros([len(X_train[0])])\n",
    "        for i in range(len(X_train)):\n",
    "            if y_train[i] * np.dot(X_train[i], W) <= 0:\n",
    "                step += y_train[i] * X_train[i]\n",
    "        W = W + learning_rate * step\n",
    "    return W\n",
    "    "
   ]
  },
  {
   "cell_type": "code",
   "execution_count": 407,
   "metadata": {},
   "outputs": [],
   "source": [
    "def predict(x,W):\n",
    "    x = np.c_[np.ones(len(x)), x]\n",
    "    g = np.dot(x,W)\n",
    "    s = np.sign(g)\n",
    "    return s"
   ]
  },
  {
   "cell_type": "code",
   "execution_count": null,
   "metadata": {},
   "outputs": [],
   "source": []
  },
  {
   "cell_type": "code",
   "execution_count": null,
   "metadata": {},
   "outputs": [],
   "source": []
  },
  {
   "cell_type": "code",
   "execution_count": null,
   "metadata": {},
   "outputs": [],
   "source": []
  },
  {
   "cell_type": "code",
   "execution_count": 408,
   "metadata": {},
   "outputs": [
    {
     "data": {
      "text/plain": [
       "array([-0.052     , -0.06468086, -0.43062756,  0.03998113, -0.00110467,\n",
       "        0.05182522, -0.33488619, -0.05346323, -0.11294551])"
      ]
     },
     "execution_count": 408,
     "metadata": {},
     "output_type": "execute_result"
    }
   ],
   "source": [
    "W = np.zeros([len(X_train[0])+1])\n",
    "W = train_data(W,100,X_train, y_train, 0.001)\n",
    "W"
   ]
  },
  {
   "cell_type": "code",
   "execution_count": 409,
   "metadata": {},
   "outputs": [
    {
     "data": {
      "text/plain": [
       "array([ 1., -1.,  1., -1.,  1.,  1., -1., -1.,  1.,  1.,  1.,  1., -1.,\n",
       "        1.,  1., -1.,  1.,  1., -1., -1., -1.,  1.,  1., -1.,  1.,  1.,\n",
       "        1., -1., -1., -1.,  1., -1., -1., -1.,  1., -1.,  1.,  1., -1.,\n",
       "        1., -1.,  1.,  1., -1.,  1., -1.,  1., -1., -1.,  1.,  1.,  1.,\n",
       "        1., -1.,  1.,  1.,  1., -1., -1.,  1., -1.,  1., -1.,  1.,  1.,\n",
       "        1., -1., -1., -1.,  1.,  1., -1.,  1.,  1., -1.,  1.,  1.,  1.,\n",
       "        1., -1.,  1.,  1., -1., -1.,  1.,  1., -1.,  1., -1., -1., -1.,\n",
       "       -1.,  1.,  1.,  1., -1.,  1., -1., -1., -1., -1.,  1., -1., -1.,\n",
       "        1., -1., -1., -1., -1., -1.,  1.,  1.,  1.,  1., -1., -1.,  1.,\n",
       "        1., -1., -1., -1.,  1., -1., -1.,  1., -1., -1., -1., -1., -1.,\n",
       "       -1.,  1., -1., -1.,  1.,  1., -1.,  1.,  1., -1., -1., -1., -1.,\n",
       "       -1., -1., -1., -1.,  1.,  1.,  1.,  1.,  1., -1., -1., -1., -1.,\n",
       "       -1.,  1., -1., -1.,  1., -1., -1.,  1., -1., -1.,  1., -1.,  1.,\n",
       "        1.,  1.,  1., -1., -1., -1.,  1.,  1.,  1., -1., -1., -1., -1.,\n",
       "        1.,  1., -1.,  1., -1.,  1., -1.,  1., -1., -1., -1., -1.,  1.,\n",
       "       -1.,  1.,  1., -1., -1.,  1.,  1., -1., -1.,  1.,  1.,  1., -1.,\n",
       "        1., -1., -1.,  1.,  1.,  1.,  1., -1., -1., -1., -1., -1., -1.,\n",
       "       -1., -1.,  1.,  1.,  1.,  1.,  1., -1., -1.,  1., -1., -1.,  1.,\n",
       "       -1., -1.,  1., -1.,  1., -1., -1.,  1., -1., -1., -1.,  1., -1.,\n",
       "        1., -1., -1., -1.,  1., -1., -1., -1.,  1.,  1.,  1., -1.,  1.,\n",
       "        1.,  1.,  1.,  1., -1., -1., -1.,  1.,  1.,  1., -1.,  1., -1.,\n",
       "        1.,  1.,  1.,  1., -1.,  1.,  1., -1., -1.,  1.,  1., -1.,  1.,\n",
       "       -1.,  1.,  1., -1.,  1., -1.,  1.,  1.,  1., -1., -1.,  1.,  1.,\n",
       "        1.,  1.,  1.,  1.,  1., -1., -1.,  1.,  1., -1., -1., -1.,  1.,\n",
       "       -1.,  1.,  1.,  1., -1.,  1.,  1.,  1.,  1.,  1., -1., -1., -1.,\n",
       "       -1., -1.,  1.,  1.,  1., -1., -1., -1., -1.,  1., -1., -1., -1.,\n",
       "       -1.,  1.,  1.,  1.,  1.,  1., -1.,  1., -1.,  1., -1.,  1.,  1.,\n",
       "       -1., -1., -1.,  1.,  1.,  1.,  1., -1., -1.,  1.,  1., -1., -1.,\n",
       "       -1., -1.,  1.,  1., -1.,  1., -1., -1., -1.,  1., -1.,  1., -1.,\n",
       "       -1., -1., -1.,  1.,  1., -1., -1.,  1., -1., -1.,  1., -1.,  1.,\n",
       "       -1., -1., -1.,  1., -1., -1.,  1.,  1., -1.,  1.,  1.,  1.,  1.,\n",
       "        1.,  1., -1., -1., -1., -1.,  1.,  1., -1., -1., -1., -1.,  1.,\n",
       "       -1., -1., -1.,  1.,  1., -1., -1.,  1., -1.,  1., -1., -1.,  1.,\n",
       "        1., -1., -1.,  1.,  1., -1.,  1., -1., -1., -1.,  1., -1.,  1.,\n",
       "        1.,  1.,  1.,  1.,  1., -1.,  1.,  1., -1.,  1., -1.,  1., -1.,\n",
       "       -1., -1.,  1., -1.,  1., -1.,  1.,  1., -1.,  1., -1., -1., -1.,\n",
       "       -1., -1.,  1., -1.,  1.,  1.,  1., -1., -1., -1., -1.,  1., -1.,\n",
       "        1., -1.,  1., -1.,  1., -1., -1.,  1., -1.,  1.,  1.,  1., -1.,\n",
       "       -1., -1., -1., -1., -1.,  1.,  1., -1., -1., -1.,  1.,  1., -1.,\n",
       "       -1., -1., -1.,  1., -1., -1.,  1.])"
      ]
     },
     "execution_count": 409,
     "metadata": {},
     "output_type": "execute_result"
    }
   ],
   "source": [
    "y_predict = predict(X_train,W)\n",
    "y_predict"
   ]
  },
  {
   "cell_type": "code",
   "execution_count": null,
   "metadata": {},
   "outputs": [],
   "source": []
  },
  {
   "cell_type": "code",
   "execution_count": 410,
   "metadata": {},
   "outputs": [
    {
     "data": {
      "text/plain": [
       "0.7470817120622568"
      ]
     },
     "execution_count": 410,
     "metadata": {},
     "output_type": "execute_result"
    }
   ],
   "source": [
    "np.count_nonzero(y_train == y_predict)/np.count_nonzero(y_train)"
   ]
  },
  {
   "cell_type": "code",
   "execution_count": 411,
   "metadata": {},
   "outputs": [
    {
     "data": {
      "text/plain": [
       "array([ 1.,  1.,  1.,  1., -1., -1.,  1., -1., -1., -1., -1., -1., -1.,\n",
       "       -1.,  1., -1.,  1.,  1., -1., -1.,  1.,  1., -1.,  1., -1., -1.,\n",
       "        1.,  1.,  1.,  1., -1., -1., -1., -1., -1., -1., -1.,  1., -1.,\n",
       "       -1.,  1., -1., -1., -1.,  1., -1., -1.,  1., -1., -1.,  1., -1.,\n",
       "       -1., -1.,  1.,  1., -1.,  1., -1., -1., -1., -1., -1.,  1.,  1.,\n",
       "       -1.,  1., -1.,  1., -1., -1.,  1.,  1.,  1.,  1., -1.,  1.,  1.,\n",
       "        1., -1., -1.,  1.,  1., -1.,  1., -1., -1., -1.,  1.,  1.,  1.,\n",
       "        1.,  1., -1., -1., -1., -1.,  1., -1.,  1., -1.,  1., -1., -1.,\n",
       "       -1.,  1., -1., -1.,  1., -1.,  1., -1.,  1., -1.,  1., -1., -1.,\n",
       "        1.,  1., -1.,  1.,  1., -1.,  1., -1., -1.,  1., -1., -1., -1.,\n",
       "       -1., -1.,  1., -1., -1.,  1.,  1., -1., -1.,  1.,  1.,  1., -1.,\n",
       "       -1.,  1.,  1.,  1.,  1., -1., -1.,  1., -1., -1.,  1.,  1., -1.,\n",
       "       -1., -1., -1.,  1., -1., -1.,  1.,  1.,  1., -1.,  1., -1., -1.,\n",
       "       -1., -1.,  1., -1., -1., -1.,  1., -1., -1.,  1., -1., -1., -1.,\n",
       "       -1., -1., -1.,  1.,  1.,  1., -1., -1.,  1.,  1., -1., -1.,  1.,\n",
       "        1.,  1.,  1.,  1., -1.,  1.,  1., -1., -1., -1.,  1.,  1., -1.,\n",
       "       -1., -1., -1.,  1.,  1.,  1., -1.,  1., -1., -1., -1., -1., -1.,\n",
       "        1.,  1.,  1.,  1., -1.,  1.,  1., -1.,  1.,  1.,  1.,  1., -1.,\n",
       "       -1., -1.,  1., -1., -1., -1.,  1.,  1., -1.,  1.,  1., -1., -1.,\n",
       "        1., -1.,  1.,  1.,  1., -1.,  1.])"
      ]
     },
     "execution_count": 411,
     "metadata": {},
     "output_type": "execute_result"
    }
   ],
   "source": [
    "y_predict = predict(X_test,W)\n",
    "y_predict"
   ]
  },
  {
   "cell_type": "code",
   "execution_count": 412,
   "metadata": {},
   "outputs": [
    {
     "data": {
      "text/plain": [
       "0.6653543307086615"
      ]
     },
     "execution_count": 412,
     "metadata": {},
     "output_type": "execute_result"
    }
   ],
   "source": [
    "np.count_nonzero(y_test == y_predict)/np.count_nonzero(y_test)"
   ]
  },
  {
   "cell_type": "code",
   "execution_count": null,
   "metadata": {},
   "outputs": [],
   "source": []
  },
  {
   "cell_type": "code",
   "execution_count": 238,
   "metadata": {},
   "outputs": [],
   "source": []
  },
  {
   "cell_type": "code",
   "execution_count": 359,
   "metadata": {},
   "outputs": [],
   "source": []
  },
  {
   "cell_type": "code",
   "execution_count": null,
   "metadata": {},
   "outputs": [],
   "source": []
  },
  {
   "cell_type": "code",
   "execution_count": null,
   "metadata": {},
   "outputs": [],
   "source": []
  },
  {
   "cell_type": "code",
   "execution_count": null,
   "metadata": {},
   "outputs": [],
   "source": []
  },
  {
   "cell_type": "code",
   "execution_count": null,
   "metadata": {},
   "outputs": [],
   "source": []
  },
  {
   "cell_type": "code",
   "execution_count": null,
   "metadata": {},
   "outputs": [],
   "source": []
  },
  {
   "cell_type": "code",
   "execution_count": null,
   "metadata": {},
   "outputs": [],
   "source": []
  },
  {
   "cell_type": "code",
   "execution_count": null,
   "metadata": {},
   "outputs": [],
   "source": []
  },
  {
   "cell_type": "code",
   "execution_count": null,
   "metadata": {},
   "outputs": [],
   "source": []
  }
 ],
 "metadata": {
  "kernelspec": {
   "display_name": "Python 3",
   "language": "python",
   "name": "python3"
  },
  "language_info": {
   "codemirror_mode": {
    "name": "ipython",
    "version": 3
   },
   "file_extension": ".py",
   "mimetype": "text/x-python",
   "name": "python",
   "nbconvert_exporter": "python",
   "pygments_lexer": "ipython3",
   "version": "3.7.4"
  }
 },
 "nbformat": 4,
 "nbformat_minor": 4
}
